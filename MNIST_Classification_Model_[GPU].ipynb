{
  "nbformat": 4,
  "nbformat_minor": 0,
  "metadata": {
    "colab": {
      "name": "MNIST Classification Model [GPU].ipynb",
      "provenance": [],
      "collapsed_sections": [],
      "authorship_tag": "ABX9TyMKaL/axmTjpGUONvte5r/I",
      "include_colab_link": true
    },
    "kernelspec": {
      "name": "python3",
      "display_name": "Python 3"
    },
    "accelerator": "GPU"
  },
  "cells": [
    {
      "cell_type": "markdown",
      "metadata": {
        "id": "view-in-github",
        "colab_type": "text"
      },
      "source": [
        "<a href=\"https://colab.research.google.com/github/jelegend/ANN-MLsummerproject/blob/master/MNIST_Classification_Model_%5BGPU%5D.ipynb\" target=\"_parent\"><img src=\"https://colab.research.google.com/assets/colab-badge.svg\" alt=\"Open In Colab\"/></a>"
      ]
    },
    {
      "cell_type": "code",
      "metadata": {
        "id": "0dFDbjdQtLD0",
        "colab_type": "code",
        "colab": {}
      },
      "source": [
        "import torch\n",
        "import torch.nn as nn\n",
        "import torch.optim as optim\n",
        "import torchvision.transforms as transforms\n",
        "from torchvision import datasets\n",
        "from torch.nn import functional\n",
        "import torchvision\n",
        "import numpy as np\n",
        "import matplotlib.pyplot as plt\n",
        "import matplotlib.pyplot as plt\n",
        "import time\n",
        "from IPython import display"
      ],
      "execution_count": 0,
      "outputs": []
    },
    {
      "cell_type": "code",
      "metadata": {
        "id": "GRPe6xBlm0Cj",
        "colab_type": "code",
        "colab": {
          "base_uri": "https://localhost:8080/",
          "height": 34
        },
        "outputId": "43b7e4b4-bcb6-438a-8a9e-3edea503a77e"
      },
      "source": [
        "device = torch.device(\"cuda:0\" if torch.cuda.is_available() else \"cpu\")\n",
        "print(device)"
      ],
      "execution_count": 2,
      "outputs": [
        {
          "output_type": "stream",
          "text": [
            "cuda:0\n"
          ],
          "name": "stdout"
        }
      ]
    },
    {
      "cell_type": "code",
      "metadata": {
        "id": "N-blJng0tSdI",
        "colab_type": "code",
        "outputId": "5a89c266-9854-4a00-8a07-ccb9506083a5",
        "colab": {
          "base_uri": "https://localhost:8080/",
          "height": 50
        }
      },
      "source": [
        "transform = transforms.Compose([transforms.ToTensor(),transforms.Normalize((0.5,), (0.5,))])\n",
        "\n",
        "\n",
        "trainset = datasets.MNIST('PATH_TO_STORE_TRAINSET', download=True, train=True, transform=transform)\n",
        "testset = datasets.MNIST('PATH_TO_STORE_TESTSET', download=True, train=False, transform=transform)\n",
        "trainloader = torch.utils.data.DataLoader(trainset, batch_size=16, shuffle=True)\n",
        "testloader = torch.utils.data.DataLoader(testset, batch_size=16, shuffle=True)\n",
        "\n",
        "dataiter = iter(trainloader)\n",
        "images, labels = dataiter.next()[0].to(device), dataiter.next()[1].to(device)\n",
        "\n",
        "print(images.shape)\n",
        "print(labels.shape)"
      ],
      "execution_count": 3,
      "outputs": [
        {
          "output_type": "stream",
          "text": [
            "torch.Size([16, 1, 28, 28])\n",
            "torch.Size([16])\n"
          ],
          "name": "stdout"
        }
      ]
    },
    {
      "cell_type": "code",
      "metadata": {
        "id": "4CukjLVtx5CA",
        "colab_type": "code",
        "colab": {
          "base_uri": "https://localhost:8080/",
          "height": 154
        },
        "outputId": "10278ad0-3995-4d1a-dc8b-38eff409d475"
      },
      "source": [
        "def imshow(img):\n",
        "  img = img/2+0.5\n",
        "  npimg = img.numpy()\n",
        "  plt.imshow(np.transpose(img,(1,2,0)))\n",
        "  plt.show()\n",
        "dataiter = iter(trainloader)\n",
        "image ,labels = dataiter.next()\n",
        "imshow(torchvision.utils.make_grid(image))\n",
        "print(labels.shape,image.shape)"
      ],
      "execution_count": 4,
      "outputs": [
        {
          "output_type": "display_data",
          "data": {
            "image/png": "[encoded data removed]",
            "text/plain": [
              "<Figure size 432x288 with 1 Axes>"
            ]
          },
          "metadata": {
            "tags": [],
            "needs_background": "light"
          }
        },
        {
          "output_type": "stream",
          "text": [
            "torch.Size([16]) torch.Size([16, 1, 28, 28])\n"
          ],
          "name": "stdout"
        }
      ]
    },
    {
      "cell_type": "code",
      "metadata": {
        "id": "KnYtckBNtvXQ",
        "colab_type": "code",
        "colab": {}
      },
      "source": [
        "class Network(nn.Module):\n",
        "    \n",
        "    def __init__(self):\n",
        "        super(Network, self).__init__()\n",
        "        # convolutional layer\n",
        "        self.conv1 = nn.Conv2d(in_channels=1,out_channels=32, kernel_size=(3,3), stride=1)\n",
        "        # convolutional layer\n",
        "        self.conv2 = nn.Conv2d(in_channels=32,out_channels=64, kernel_size=(3,3), stride=1)\n",
        "        # max pooling layer\n",
        "        self.pool = nn.MaxPool2d(kernel_size = (2,2),stride=2)\n",
        "        # dropout layer 1 (p=0.25)\n",
        "        self.dropout1 = nn.Dropout(0.25)\n",
        "        # linear layer (9216 -> 128)\n",
        "        self.fc1 = nn.Linear(9216, 128)\n",
        "        # dropout layer 2 (p=0.5)\n",
        "        self.dropout2 = nn.Dropout(0.5)\n",
        "        # linear layer (500 -> 10)\n",
        "        self.fc2 = nn.Linear(128, 10)\n",
        "\n",
        "        \n",
        "    def forward(self, x):\n",
        "       # add sequence of convolutional and max pooling layers\n",
        "        x = torch.relu(self.conv1(x))\n",
        "        x = torch.relu(self.conv2(x))\n",
        "        x = self.pool(x)\n",
        "        #Flattening the output for the Linear layers\n",
        "        x = x.view(x.size(0),-1) \n",
        "        #Dropout Layer\n",
        "        x = self.dropout1(x)\n",
        "        #Linear fully-connected layer and ReLU\n",
        "        x = torch.relu(self.fc1(x))\n",
        "        #Dropout Layer\n",
        "        x = self.dropout2(x)\n",
        "        #Linear fully-connected layer and Softmax\n",
        "        x = torch.softmax(self.fc2(x), dim=1)\n",
        "        \n",
        "        return x\n",
        "\n",
        "net = Network().cuda()"
      ],
      "execution_count": 0,
      "outputs": []
    },
    {
      "cell_type": "code",
      "metadata": {
        "id": "qTTJzenusTN0",
        "colab_type": "code",
        "colab": {}
      },
      "source": [
        "criterion = nn.CrossEntropyLoss()\n",
        "optimizer = optim.SGD(net.parameters(), lr=0.001, momentum=0.9)"
      ],
      "execution_count": 0,
      "outputs": []
    },
    {
      "cell_type": "code",
      "metadata": {
        "id": "OkXvZ6cMzEdh",
        "colab_type": "code",
        "outputId": "251fc148-ec89-4679-dc24-3f7e7b30206d",
        "colab": {
          "base_uri": "https://localhost:8080/",
          "height": 1000
        }
      },
      "source": [
        "for epoch in range(5):  # loop over the dataset multiple times\n",
        "\n",
        "    running_loss = 0.0\n",
        "    for i, data in enumerate(trainloader, 0):\n",
        "        # get the inputs; data is a list of [inputs, labels]\n",
        "        inputs, labels = data[0].to(device), data[1].to(device)\n",
        "\n",
        "        # zero the parameter gradients\n",
        "        optimizer.zero_grad()\n",
        "\n",
        "        # forward + backward + optimize\n",
        "        outputs = net(inputs)\n",
        "        loss = criterion(outputs, labels)\n",
        "        loss.backward()\n",
        "        optimizer.step()\n",
        "\n",
        "        # print statistics\n",
        "        running_loss += loss.item()\n",
        "        if i % 134 == 133:    # print every 500 mini-batches\n",
        "            print('[%d, %5d] loss: %.3f' %\n",
        "                  (epoch + 1, i + 1, running_loss / 133))\n",
        "            running_loss = 0.0\n",
        "\n",
        "print('Finished Training')"
      ],
      "execution_count": 7,
      "outputs": [
        {
          "output_type": "stream",
          "text": [
            "[1,   134] loss: 2.319\n",
            "[1,   268] loss: 2.315\n",
            "[1,   402] loss: 2.309\n",
            "[1,   536] loss: 2.300\n",
            "[1,   670] loss: 2.279\n",
            "[1,   804] loss: 2.200\n",
            "[1,   938] loss: 2.020\n",
            "[1,  1072] loss: 1.902\n",
            "[1,  1206] loss: 1.844\n",
            "[1,  1340] loss: 1.777\n",
            "[1,  1474] loss: 1.749\n",
            "[1,  1608] loss: 1.731\n",
            "[1,  1742] loss: 1.688\n",
            "[1,  1876] loss: 1.686\n",
            "[1,  2010] loss: 1.669\n",
            "[1,  2144] loss: 1.653\n",
            "[1,  2278] loss: 1.650\n",
            "[1,  2412] loss: 1.630\n",
            "[1,  2546] loss: 1.633\n",
            "[1,  2680] loss: 1.633\n",
            "[1,  2814] loss: 1.624\n",
            "[1,  2948] loss: 1.624\n",
            "[1,  3082] loss: 1.621\n",
            "[1,  3216] loss: 1.617\n",
            "[1,  3350] loss: 1.608\n",
            "[1,  3484] loss: 1.611\n",
            "[1,  3618] loss: 1.613\n",
            "[2,   134] loss: 1.602\n",
            "[2,   268] loss: 1.598\n",
            "[2,   402] loss: 1.608\n",
            "[2,   536] loss: 1.590\n",
            "[2,   670] loss: 1.595\n",
            "[2,   804] loss: 1.586\n",
            "[2,   938] loss: 1.593\n",
            "[2,  1072] loss: 1.594\n",
            "[2,  1206] loss: 1.587\n",
            "[2,  1340] loss: 1.587\n",
            "[2,  1474] loss: 1.590\n",
            "[2,  1608] loss: 1.587\n",
            "[2,  1742] loss: 1.573\n",
            "[2,  1876] loss: 1.576\n",
            "[2,  2010] loss: 1.572\n",
            "[2,  2144] loss: 1.575\n",
            "[2,  2278] loss: 1.574\n",
            "[2,  2412] loss: 1.576\n",
            "[2,  2546] loss: 1.580\n",
            "[2,  2680] loss: 1.572\n",
            "[2,  2814] loss: 1.569\n",
            "[2,  2948] loss: 1.569\n",
            "[2,  3082] loss: 1.570\n",
            "[2,  3216] loss: 1.573\n",
            "[2,  3350] loss: 1.561\n",
            "[2,  3484] loss: 1.565\n",
            "[2,  3618] loss: 1.568\n",
            "[3,   134] loss: 1.566\n",
            "[3,   268] loss: 1.568\n",
            "[3,   402] loss: 1.556\n",
            "[3,   536] loss: 1.547\n",
            "[3,   670] loss: 1.557\n",
            "[3,   804] loss: 1.566\n",
            "[3,   938] loss: 1.563\n",
            "[3,  1072] loss: 1.561\n",
            "[3,  1206] loss: 1.557\n",
            "[3,  1340] loss: 1.550\n",
            "[3,  1474] loss: 1.558\n",
            "[3,  1608] loss: 1.559\n",
            "[3,  1742] loss: 1.564\n",
            "[3,  1876] loss: 1.545\n",
            "[3,  2010] loss: 1.559\n",
            "[3,  2144] loss: 1.553\n",
            "[3,  2278] loss: 1.556\n",
            "[3,  2412] loss: 1.552\n",
            "[3,  2546] loss: 1.549\n",
            "[3,  2680] loss: 1.556\n",
            "[3,  2814] loss: 1.554\n",
            "[3,  2948] loss: 1.548\n",
            "[3,  3082] loss: 1.540\n",
            "[3,  3216] loss: 1.543\n",
            "[3,  3350] loss: 1.547\n",
            "[3,  3484] loss: 1.541\n",
            "[3,  3618] loss: 1.550\n",
            "[4,   134] loss: 1.551\n",
            "[4,   268] loss: 1.541\n",
            "[4,   402] loss: 1.543\n",
            "[4,   536] loss: 1.543\n",
            "[4,   670] loss: 1.551\n",
            "[4,   804] loss: 1.539\n",
            "[4,   938] loss: 1.532\n",
            "[4,  1072] loss: 1.545\n",
            "[4,  1206] loss: 1.530\n",
            "[4,  1340] loss: 1.533\n",
            "[4,  1474] loss: 1.537\n",
            "[4,  1608] loss: 1.547\n",
            "[4,  1742] loss: 1.535\n",
            "[4,  1876] loss: 1.541\n",
            "[4,  2010] loss: 1.538\n",
            "[4,  2144] loss: 1.540\n",
            "[4,  2278] loss: 1.538\n",
            "[4,  2412] loss: 1.538\n",
            "[4,  2546] loss: 1.537\n",
            "[4,  2680] loss: 1.535\n",
            "[4,  2814] loss: 1.536\n",
            "[4,  2948] loss: 1.528\n",
            "[4,  3082] loss: 1.531\n",
            "[4,  3216] loss: 1.535\n",
            "[4,  3350] loss: 1.527\n",
            "[4,  3484] loss: 1.530\n",
            "[4,  3618] loss: 1.535\n",
            "[5,   134] loss: 1.534\n",
            "[5,   268] loss: 1.529\n",
            "[5,   402] loss: 1.526\n",
            "[5,   536] loss: 1.524\n",
            "[5,   670] loss: 1.526\n",
            "[5,   804] loss: 1.526\n",
            "[5,   938] loss: 1.526\n",
            "[5,  1072] loss: 1.523\n",
            "[5,  1206] loss: 1.530\n",
            "[5,  1340] loss: 1.528\n",
            "[5,  1474] loss: 1.529\n",
            "[5,  1608] loss: 1.525\n",
            "[5,  1742] loss: 1.533\n",
            "[5,  1876] loss: 1.530\n",
            "[5,  2010] loss: 1.526\n",
            "[5,  2144] loss: 1.527\n",
            "[5,  2278] loss: 1.517\n",
            "[5,  2412] loss: 1.523\n",
            "[5,  2546] loss: 1.520\n",
            "[5,  2680] loss: 1.529\n",
            "[5,  2814] loss: 1.528\n",
            "[5,  2948] loss: 1.526\n",
            "[5,  3082] loss: 1.523\n",
            "[5,  3216] loss: 1.524\n",
            "[5,  3350] loss: 1.526\n",
            "[5,  3484] loss: 1.528\n",
            "[5,  3618] loss: 1.525\n",
            "Finished Training\n"
          ],
          "name": "stdout"
        }
      ]
    },
    {
      "cell_type": "code",
      "metadata": {
        "id": "zOaUw6rnnTTl",
        "colab_type": "code",
        "colab": {
          "base_uri": "https://localhost:8080/",
          "height": 34
        },
        "outputId": "d070d404-3500-48e7-a54e-ac133b50078e"
      },
      "source": [
        "for i, data in enumerate(testloader, 0):\n",
        "  images = data[0].to(device)\n",
        "  labels = data[1].to(device)\n",
        "print(labels)"
      ],
      "execution_count": 8,
      "outputs": [
        {
          "output_type": "stream",
          "text": [
            "tensor([9, 1, 4, 1, 2, 1, 6, 3, 5, 4, 8, 5, 3, 6, 3, 1], device='cuda:0')\n"
          ],
          "name": "stdout"
        }
      ]
    },
    {
      "cell_type": "code",
      "metadata": {
        "id": "UIkQw37lv-n2",
        "colab_type": "code",
        "colab": {
          "base_uri": "https://localhost:8080/",
          "height": 170
        },
        "outputId": "c3f75e89-e8d4-4f64-e334-043cdf893580"
      },
      "source": [
        "outputs = net(images)\n",
        "_, predicted = torch.max(outputs, 1)\n",
        "\n",
        "classes = ('0', '1', '2', '3', '4', '5', '6', '7', '8', '9')\n",
        "\n",
        "print('Ground Truth: ', ' '.join('%1s' % classes[labels[j]] for j in range(16)))\n",
        "print('Predicted:    ', ' '.join('%1s' % classes[predicted[j]] for j in range(16)))\n",
        "# print images\n",
        "imshow(torchvision.utils.make_grid(images.cpu()))\n"
      ],
      "execution_count": 9,
      "outputs": [
        {
          "output_type": "stream",
          "text": [
            "Ground Truth:  9 1 4 1 2 1 6 3 5 4 8 5 3 6 3 1\n",
            "Predicted:     9 1 4 1 2 1 4 3 5 4 8 5 3 6 7 1\n"
          ],
          "name": "stdout"
        },
        {
          "output_type": "display_data",
          "data": {
            "image/png": "[encoded data removed]",
            "text/plain": [
              "<Figure size 432x288 with 1 Axes>"
            ]
          },
          "metadata": {
            "tags": [],
            "needs_background": "light"
          }
        }
      ]
    },
    {
      "cell_type": "code",
      "metadata": {
        "id": "wepY0fGOteMk",
        "colab_type": "code",
        "colab": {
          "base_uri": "https://localhost:8080/",
          "height": 34
        },
        "outputId": "f080a514-4693-4d25-e5ba-4abe5efee247"
      },
      "source": [
        "correct = 0\n",
        "total = 0\n",
        "with torch.no_grad():\n",
        "    for i, data in enumerate(testloader, 0):\n",
        "        inputs, labels = data[0].to(device), data[1].to(device)\n",
        "        outputs = net(inputs)\n",
        "        _, predicted = torch.max(outputs, 1)\n",
        "        total += labels.size(0)\n",
        "        correct += (predicted == labels).sum().item()\n",
        "\n",
        "print('Accuracy of the network on the 20000 test images: %d %%' % (\n",
        "    100 * correct / total))"
      ],
      "execution_count": 10,
      "outputs": [
        {
          "output_type": "stream",
          "text": [
            "Accuracy of the network on the 20000 test images: 95 %\n"
          ],
          "name": "stdout"
        }
      ]
    },
    {
      "cell_type": "code",
      "metadata": {
        "id": "kfoo6Xjnv1GZ",
        "colab_type": "code",
        "colab": {
          "base_uri": "https://localhost:8080/",
          "height": 185
        },
        "outputId": "bf1d28d9-1c0a-49ec-cb5d-861c6b4b3be3"
      },
      "source": [
        "class_correct = list(0. for i in range(10))\n",
        "class_total = list(0. for i in range(10))\n",
        "with torch.no_grad():\n",
        "    for i, data in enumerate(testloader, 0):\n",
        "        inputs, labels = data[0].to(device), data[1].to(device)\n",
        "        outputs = net(inputs)\n",
        "        _, predicted = torch.max(outputs, 1)\n",
        "        c = (predicted == labels).squeeze()\n",
        "        for i in range(4):\n",
        "            label = labels[i]\n",
        "            class_correct[label] += c[i].item()\n",
        "            class_total[label] += 1\n",
        "\n",
        "\n",
        "for i in range(10):\n",
        "    print('Accuracy of %5s : %2d %%' % (\n",
        "        classes[i], 100 * class_correct[i] / class_total[i]))"
      ],
      "execution_count": 11,
      "outputs": [
        {
          "output_type": "stream",
          "text": [
            "Accuracy of     0 : 98 %\n",
            "Accuracy of     1 : 98 %\n",
            "Accuracy of     2 : 94 %\n",
            "Accuracy of     3 : 95 %\n",
            "Accuracy of     4 : 96 %\n",
            "Accuracy of     5 : 96 %\n",
            "Accuracy of     6 : 97 %\n",
            "Accuracy of     7 : 96 %\n",
            "Accuracy of     8 : 94 %\n",
            "Accuracy of     9 : 91 %\n"
          ],
          "name": "stdout"
        }
      ]
    }
  ]
}